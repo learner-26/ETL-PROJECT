{
 "cells": [
  {
   "cell_type": "code",
   "execution_count": 0,
   "metadata": {
    "application/vnd.databricks.v1+cell": {
     "cellMetadata": {
      "byteLimit": 2048000,
      "rowLimit": 10000
     },
     "inputWidgets": {},
     "nuid": "55f36d81-9a73-456d-8038-d7ca0ef3de64",
     "showTitle": false,
     "title": ""
    }
   },
   "outputs": [],
   "source": [
    "from pyspark.sql.functions import *\n",
    "from pyspark.sql.types import *\n",
    "from pyspark.sql import SparkSession   "
   ]
  },
  {
   "cell_type": "code",
   "execution_count": 0,
   "metadata": {
    "application/vnd.databricks.v1+cell": {
     "cellMetadata": {
      "byteLimit": 2048000,
      "rowLimit": 10000
     },
     "inputWidgets": {},
     "nuid": "9bcdd702-09a0-4ae1-886e-39983514e23f",
     "showTitle": false,
     "title": ""
    }
   },
   "outputs": [
    {
     "output_type": "display_data",
     "data": {
      "text/html": [
       "\n",
       "            <div>\n",
       "                <p><b>SparkSession - hive</b></p>\n",
       "                \n",
       "        <div>\n",
       "            <p><b>SparkContext</b></p>\n",
       "\n",
       "            <p><a href=\"/?o=2079036545126742#setting/sparkui/0228-103847-wyuj5sbx/driver-6366660131019522081\">Spark UI</a></p>\n",
       "\n",
       "            <dl>\n",
       "              <dt>Version</dt>\n",
       "                <dd><code>v3.3.2</code></dd>\n",
       "              <dt>Master</dt>\n",
       "                <dd><code>local[8]</code></dd>\n",
       "              <dt>AppName</dt>\n",
       "                <dd><code>Databricks Shell</code></dd>\n",
       "            </dl>\n",
       "        </div>\n",
       "        \n",
       "            </div>\n",
       "        "
      ]
     },
     "metadata": {
      "application/vnd.databricks.v1+output": {
       "addedWidgets": {},
       "arguments": {},
       "data": "\n            <div>\n                <p><b>SparkSession - hive</b></p>\n                \n        <div>\n            <p><b>SparkContext</b></p>\n\n            <p><a href=\"/?o=2079036545126742#setting/sparkui/0228-103847-wyuj5sbx/driver-6366660131019522081\">Spark UI</a></p>\n\n            <dl>\n              <dt>Version</dt>\n                <dd><code>v3.3.2</code></dd>\n              <dt>Master</dt>\n                <dd><code>local[8]</code></dd>\n              <dt>AppName</dt>\n                <dd><code>Databricks Shell</code></dd>\n            </dl>\n        </div>\n        \n            </div>\n        ",
       "datasetInfos": [],
       "metadata": {},
       "removedWidgets": [],
       "textData": null,
       "type": "htmlSandbox"
      }
     },
     "output_type": "display_data"
    }
   ],
   "source": [
    "spark"
   ]
  },
  {
   "cell_type": "code",
   "execution_count": 0,
   "metadata": {
    "application/vnd.databricks.v1+cell": {
     "cellMetadata": {
      "byteLimit": 2048000,
      "rowLimit": 10000
     },
     "inputWidgets": {},
     "nuid": "b0065398-9437-47fe-9bf9-4f95624463e4",
     "showTitle": false,
     "title": ""
    }
   },
   "outputs": [],
   "source": [
    "# Create a SparkSession\n",
    "\n",
    "#sparksession is basically a entry point of our spark driver's\n",
    "spark = SparkSession.builder \\\n",
    "    .appName(\"Transformation\") \\\n",
    "    .getOrCreate()"
   ]
  },
  {
   "cell_type": "code",
   "execution_count": 0,
   "metadata": {
    "application/vnd.databricks.v1+cell": {
     "cellMetadata": {
      "byteLimit": 2048000,
      "rowLimit": 10000
     },
     "inputWidgets": {},
     "nuid": "c2331eb1-c2bf-471d-9bd9-55c976c10b33",
     "showTitle": false,
     "title": ""
    }
   },
   "outputs": [],
   "source": [
    "#CREATE ELON_DF DATAFRAME FROM CSV FILE\n",
    "\n",
    "elon_df=spark.read.format(\"csv\").option(\"header\",\"true\").load(\"/FileStore/tables/elon_X_tweets-2.csv\")"
   ]
  },
  {
   "cell_type": "code",
   "execution_count": 0,
   "metadata": {
    "application/vnd.databricks.v1+cell": {
     "cellMetadata": {
      "byteLimit": 2048000,
      "rowLimit": 10000
     },
     "inputWidgets": {},
     "nuid": "fc5bb278-d855-41a4-8604-b2f95cadafb8",
     "showTitle": false,
     "title": ""
    }
   },
   "outputs": [
    {
     "output_type": "stream",
     "name": "stdout",
     "output_type": "stream",
     "text": [
      "+---+--------------------+--------------------+--------------------+--------------------+--------------------+--------------------+--------------------+--------------+\n| ID|                link|                text|                user|               likes|            comments|            retweets|       external-link|        quotes|\n+---+--------------------+--------------------+--------------------+--------------------+--------------------+--------------------+--------------------+--------------+\n|  0|https://twitter.c...|This post was mad...|           Elon Musk|               91567|                7656|               11121|                null|           987|\n|  1|https://twitter.c...|                null|           Elon Musk|               48095|                3256|                9219|                null|           506|\n|  2|https://twitter.c...|Tesla manufacturi...|               Tesla|               12183|                 755|                1774|                null|           204|\n|  3|https://twitter.c...|San Francisco, th...|           Elon Musk|               52292|                3061|                8020|                null|           186|\n|  4|https://twitter.c...|                  😂|           Elon Musk|              136585|                6077|               20534|                null|          2176|\n|  5|https://twitter.c...|The second flight...|              SpaceX|               19559|                1088|                2749|                null|           225|\n|  6|https://twitter.c...|DEI puts the live...|           Elon Musk|               67456|                3645|               14227|                null|           477|\n|  7|https://twitter.c...|Dems won’t deport...|           Elon Musk|              116096|               11141|               28273|                null|          1394|\n|  8|https://twitter.c...|Over 1 million jo...|        DogeDesigner|               39701|                1836|                3458|                null|           251|\n|  9|https://twitter.c...|Falcon 9 and Drag...|              SpaceX|               10247|                 746|                1338|                null|            61|\n| 10|https://twitter.c...|Over 1 million jo...|              Hiring|                7817|                 980|                1358|                null|           114|\n| 11|https://twitter.c...|I'm shocked that ...|           Tim Young|               39264|                1091|               15765|                null|           462|\n| 12|https://twitter.c...|Look at skyrocket...|         Greg Abbott|               11087|                1019|                2801|                null|           119|\n| 13|https://twitter.c...|There are more th...|            Business|                4967|                 499|                 753|                null|            33|\n| 14|https://twitter.c...|X Hiring has reac...|                News|                5744|                 677|                 824|                null|            54|\n| 15|https://twitter.c...|    \"S&P: \"\"For 2023| the @Tesla brand...| 'Highest Conques...| \"\"Alternative Po...| along with the b...| contributed to T...|Sawyer Merritt|\n| 16|https://twitter.c...|The Everything Ap...|     Linda Yaccarino|                5440|                 705|                 831|                null|            79|\n| 17|https://twitter.c...|And this is from ...|           Elon Musk|               66807|                3448|               14532|                null|           399|\n| 18|https://twitter.c...|Due to continued ...|           Elon Musk|               51701|                3287|                7211|                null|           220|\n| 19|https://twitter.c...|Falcon 9 and Drag...|              SpaceX|               11107|                 871|                1419|                null|            83|\n+---+--------------------+--------------------+--------------------+--------------------+--------------------+--------------------+--------------------+--------------+\nonly showing top 20 rows\n\n"
     ]
    }
   ],
   "source": [
    "elon_df.show()"
   ]
  },
  {
   "cell_type": "code",
   "execution_count": 0,
   "metadata": {
    "application/vnd.databricks.v1+cell": {
     "cellMetadata": {
      "byteLimit": 2048000,
      "rowLimit": 10000
     },
     "inputWidgets": {},
     "nuid": "e661f982-23c8-4a50-b09e-dda577249647",
     "showTitle": false,
     "title": ""
    }
   },
   "outputs": [],
   "source": [
    "#CREATE MRBEAST_DF FROM CSV FILE"
   ]
  },
  {
   "cell_type": "code",
   "execution_count": 0,
   "metadata": {
    "application/vnd.databricks.v1+cell": {
     "cellMetadata": {
      "byteLimit": 2048000,
      "rowLimit": 10000
     },
     "inputWidgets": {},
     "nuid": "17d70084-b6ba-44e1-8aaa-3fff2f346516",
     "showTitle": false,
     "title": ""
    }
   },
   "outputs": [],
   "source": [
    "mrbeast_df = spark.read.format(\"csv\").option(\"header\", \"true\").load(\"/FileStore/tables/mr_beast_csv-3.csv\")\n",
    "   "
   ]
  },
  {
   "cell_type": "code",
   "execution_count": 0,
   "metadata": {
    "application/vnd.databricks.v1+cell": {
     "cellMetadata": {
      "byteLimit": 2048000,
      "rowLimit": 10000
     },
     "inputWidgets": {},
     "nuid": "d5c376ca-a13e-4ede-8870-2205de916363",
     "showTitle": false,
     "title": ""
    }
   },
   "outputs": [
    {
     "output_type": "stream",
     "name": "stdout",
     "output_type": "stream",
     "text": [
      "+---+--------------------+--------------------+-------+-------+--------+--------+-------------+------+\n| ID|                link|                text|   user|  likes|comments|retweets|external-link|quotes|\n+---+--------------------+--------------------+-------+-------+--------+--------+-------------+------+\n|  0|https://twitter.c...|No takesies backsies|MrBeast|1263270|   38423|   67066|         null| 12458|\n|  1|https://twitter.c...|The reason I’m do...|MrBeast|   9908|    1283|     503|         null|    37|\n|  2|https://twitter.c...|If you run a busi...|MrBeast|   8898|     928|     484|         null|    33|\n|  3|https://twitter.c...|Some stores I vis...|MrBeast|   6939|    1104|     382|         null|    41|\n|  4|https://twitter.c...|Found another one...|MrBeast|   8008|    1043|     443|         null|    41|\n|  5|https://twitter.c...|I spent 15 hours ...|MrBeast|   9960|    1140|     404|         null|   133|\n|  6|https://twitter.c...|I’m seeing this a...|MrBeast|  30128|    2953|    1397|         null|   118|\n|  7|https://twitter.c...|I just visited 5 ...|MrBeast|  14447|     937|     395|         null|    35|\n|  8|https://twitter.c...|This is the bigge...|MrBeast| 158306|   10005|   10711|         null|  1751|\n|  9|https://twitter.c...|I found 100 peopl...|MrBeast| 139689|    7095|   10998|         null|  4095|\n| 10|https://twitter.c...|If you don’t watc...|MrBeast|  81351|   12234|    4528|         null|   626|\n| 11|https://twitter.c...|In the last 3 yea...|MrBeast| 128952|    7168|    7744|         null|   483|\n| 12|https://twitter.c...|We found 100 stra...|MrBeast| 365700|   15108|   36234|         null|  4339|\n| 13|https://twitter.c...|I should have hel...|MrBeast|  48564|    1514|    1699|         null|   105|\n| 14|https://twitter.c...|This might sound ...|MrBeast| 117776|    7168|    5096|         null|   538|\n| 15|https://twitter.c...|We uploaded on Yo...|MrBeast| 118791|   13508|    8371|         null|   627|\n| 16|https://twitter.c...|Train Vs Giant Pi...|MrBeast| 256796|   14582|   28140|         null|  3993|\n| 17|https://twitter.c...|Here are the winn...|MrBeast| 250992|   48551|   20128|         null| 11353|\n| 18|https://twitter.c...|This is now the m...|MrBeast| 237851|   24173|   36968|         null|  2529|\n| 19|https://twitter.c...|I’m gonna give 10...|MrBeast|2421894|  427012| 3331033|         null|225267|\n+---+--------------------+--------------------+-------+-------+--------+--------+-------------+------+\nonly showing top 20 rows\n\n"
     ]
    }
   ],
   "source": [
    "mrbeast_df.show()"
   ]
  },
  {
   "cell_type": "code",
   "execution_count": 0,
   "metadata": {
    "application/vnd.databricks.v1+cell": {
     "cellMetadata": {
      "byteLimit": 2048000,
      "rowLimit": 10000
     },
     "inputWidgets": {},
     "nuid": "d293a4bf-bca1-46f8-91a6-7986b3081886",
     "showTitle": false,
     "title": ""
    }
   },
   "outputs": [],
   "source": [
    "#DROP ALL NULL COLUMNS FROM BOTH DATAFRAME\n",
    "\n",
    "elon_df1 =elon_df.drop('external-link')\n",
    "mrbeast_df1=mrbeast_df.drop('external-link')\n"
   ]
  },
  {
   "cell_type": "code",
   "execution_count": 0,
   "metadata": {
    "application/vnd.databricks.v1+cell": {
     "cellMetadata": {
      "byteLimit": 2048000,
      "rowLimit": 10000
     },
     "inputWidgets": {},
     "nuid": "14f784d8-848e-4b6b-827f-40510efc1042",
     "showTitle": false,
     "title": ""
    }
   },
   "outputs": [
    {
     "output_type": "stream",
     "name": "stdout",
     "output_type": "stream",
     "text": [
      "+---+--------------------+--------------------+--------------------+--------------------+--------------------+--------------------+--------------+\n| ID|                link|                text|                user|               likes|            comments|            retweets|        quotes|\n+---+--------------------+--------------------+--------------------+--------------------+--------------------+--------------------+--------------+\n|  0|https://twitter.c...|This post was mad...|           Elon Musk|               91567|                7656|               11121|           987|\n|  1|https://twitter.c...|                null|           Elon Musk|               48095|                3256|                9219|           506|\n|  2|https://twitter.c...|Tesla manufacturi...|               Tesla|               12183|                 755|                1774|           204|\n|  3|https://twitter.c...|San Francisco, th...|           Elon Musk|               52292|                3061|                8020|           186|\n|  4|https://twitter.c...|                  😂|           Elon Musk|              136585|                6077|               20534|          2176|\n|  5|https://twitter.c...|The second flight...|              SpaceX|               19559|                1088|                2749|           225|\n|  6|https://twitter.c...|DEI puts the live...|           Elon Musk|               67456|                3645|               14227|           477|\n|  7|https://twitter.c...|Dems won’t deport...|           Elon Musk|              116096|               11141|               28273|          1394|\n|  8|https://twitter.c...|Over 1 million jo...|        DogeDesigner|               39701|                1836|                3458|           251|\n|  9|https://twitter.c...|Falcon 9 and Drag...|              SpaceX|               10247|                 746|                1338|            61|\n| 10|https://twitter.c...|Over 1 million jo...|              Hiring|                7817|                 980|                1358|           114|\n| 11|https://twitter.c...|I'm shocked that ...|           Tim Young|               39264|                1091|               15765|           462|\n| 12|https://twitter.c...|Look at skyrocket...|         Greg Abbott|               11087|                1019|                2801|           119|\n| 13|https://twitter.c...|There are more th...|            Business|                4967|                 499|                 753|            33|\n| 14|https://twitter.c...|X Hiring has reac...|                News|                5744|                 677|                 824|            54|\n| 15|https://twitter.c...|    \"S&P: \"\"For 2023| the @Tesla brand...| 'Highest Conques...| \"\"Alternative Po...| along with the b...|Sawyer Merritt|\n| 16|https://twitter.c...|The Everything Ap...|     Linda Yaccarino|                5440|                 705|                 831|            79|\n| 17|https://twitter.c...|And this is from ...|           Elon Musk|               66807|                3448|               14532|           399|\n| 18|https://twitter.c...|Due to continued ...|           Elon Musk|               51701|                3287|                7211|           220|\n| 19|https://twitter.c...|Falcon 9 and Drag...|              SpaceX|               11107|                 871|                1419|            83|\n+---+--------------------+--------------------+--------------------+--------------------+--------------------+--------------------+--------------+\nonly showing top 20 rows\n\n+---+--------------------+--------------------+-------+-------+--------+--------+------+\n| ID|                link|                text|   user|  likes|comments|retweets|quotes|\n+---+--------------------+--------------------+-------+-------+--------+--------+------+\n|  0|https://twitter.c...|No takesies backsies|MrBeast|1263270|   38423|   67066| 12458|\n|  1|https://twitter.c...|The reason I’m do...|MrBeast|   9908|    1283|     503|    37|\n|  2|https://twitter.c...|If you run a busi...|MrBeast|   8898|     928|     484|    33|\n|  3|https://twitter.c...|Some stores I vis...|MrBeast|   6939|    1104|     382|    41|\n|  4|https://twitter.c...|Found another one...|MrBeast|   8008|    1043|     443|    41|\n|  5|https://twitter.c...|I spent 15 hours ...|MrBeast|   9960|    1140|     404|   133|\n|  6|https://twitter.c...|I’m seeing this a...|MrBeast|  30128|    2953|    1397|   118|\n|  7|https://twitter.c...|I just visited 5 ...|MrBeast|  14447|     937|     395|    35|\n|  8|https://twitter.c...|This is the bigge...|MrBeast| 158306|   10005|   10711|  1751|\n|  9|https://twitter.c...|I found 100 peopl...|MrBeast| 139689|    7095|   10998|  4095|\n| 10|https://twitter.c...|If you don’t watc...|MrBeast|  81351|   12234|    4528|   626|\n| 11|https://twitter.c...|In the last 3 yea...|MrBeast| 128952|    7168|    7744|   483|\n| 12|https://twitter.c...|We found 100 stra...|MrBeast| 365700|   15108|   36234|  4339|\n| 13|https://twitter.c...|I should have hel...|MrBeast|  48564|    1514|    1699|   105|\n| 14|https://twitter.c...|This might sound ...|MrBeast| 117776|    7168|    5096|   538|\n| 15|https://twitter.c...|We uploaded on Yo...|MrBeast| 118791|   13508|    8371|   627|\n| 16|https://twitter.c...|Train Vs Giant Pi...|MrBeast| 256796|   14582|   28140|  3993|\n| 17|https://twitter.c...|Here are the winn...|MrBeast| 250992|   48551|   20128| 11353|\n| 18|https://twitter.c...|This is now the m...|MrBeast| 237851|   24173|   36968|  2529|\n| 19|https://twitter.c...|I’m gonna give 10...|MrBeast|2421894|  427012| 3331033|225267|\n+---+--------------------+--------------------+-------+-------+--------+--------+------+\nonly showing top 20 rows\n\n"
     ]
    }
   ],
   "source": [
    "elon_df1.show()\n",
    "mrbeast_df1.show()"
   ]
  },
  {
   "cell_type": "code",
   "execution_count": 0,
   "metadata": {
    "application/vnd.databricks.v1+cell": {
     "cellMetadata": {
      "byteLimit": 2048000,
      "rowLimit": 10000
     },
     "inputWidgets": {},
     "nuid": "21c998d2-a595-4dc5-82aa-d0df1c8b8917",
     "showTitle": false,
     "title": ""
    }
   },
   "outputs": [],
   "source": [
    "#SINCE OUR DATA IS SCATEERED, WE USED THIS TRANSFORMATION TO SET OUR COLUMN WIDTH TO GET IT IN CONCISE MANNER.\n",
    "\n",
    "spark.conf.set(\"spark.sql.repl.eagerEval.enabled\", True)  # Enable eager evaluation for better display\n",
    "spark.conf.set(\"spark.sql.repl.eagerEval.truncate\", 50)   # Set the column width\n",
    "\n"
   ]
  },
  {
   "cell_type": "code",
   "execution_count": 0,
   "metadata": {
    "application/vnd.databricks.v1+cell": {
     "cellMetadata": {
      "byteLimit": 2048000,
      "rowLimit": 10000
     },
     "inputWidgets": {},
     "nuid": "7ba94492-5e8e-4e70-ba16-4ca454fe0c30",
     "showTitle": false,
     "title": ""
    }
   },
   "outputs": [
    {
     "output_type": "stream",
     "name": "stdout",
     "output_type": "stream",
     "text": [
      "+---+--------------------+--------------------+--------------------+--------------------+--------------------+--------------------+--------------+\n| ID|                link|                text|                user|               likes|            comments|            retweets|        quotes|\n+---+--------------------+--------------------+--------------------+--------------------+--------------------+--------------------+--------------+\n|  0|https://twitter.c...|This post was mad...|           Elon Musk|               91567|                7656|               11121|           987|\n|  1|https://twitter.c...|                null|           Elon Musk|               48095|                3256|                9219|           506|\n|  2|https://twitter.c...|Tesla manufacturi...|               Tesla|               12183|                 755|                1774|           204|\n|  3|https://twitter.c...|San Francisco, th...|           Elon Musk|               52292|                3061|                8020|           186|\n|  4|https://twitter.c...|                  😂|           Elon Musk|              136585|                6077|               20534|          2176|\n|  5|https://twitter.c...|The second flight...|              SpaceX|               19559|                1088|                2749|           225|\n|  6|https://twitter.c...|DEI puts the live...|           Elon Musk|               67456|                3645|               14227|           477|\n|  7|https://twitter.c...|Dems won’t deport...|           Elon Musk|              116096|               11141|               28273|          1394|\n|  8|https://twitter.c...|Over 1 million jo...|        DogeDesigner|               39701|                1836|                3458|           251|\n|  9|https://twitter.c...|Falcon 9 and Drag...|              SpaceX|               10247|                 746|                1338|            61|\n| 10|https://twitter.c...|Over 1 million jo...|              Hiring|                7817|                 980|                1358|           114|\n| 11|https://twitter.c...|I'm shocked that ...|           Tim Young|               39264|                1091|               15765|           462|\n| 12|https://twitter.c...|Look at skyrocket...|         Greg Abbott|               11087|                1019|                2801|           119|\n| 13|https://twitter.c...|There are more th...|            Business|                4967|                 499|                 753|            33|\n| 14|https://twitter.c...|X Hiring has reac...|                News|                5744|                 677|                 824|            54|\n| 15|https://twitter.c...|    \"S&P: \"\"For 2023| the @Tesla brand...| 'Highest Conques...| \"\"Alternative Po...| along with the b...|Sawyer Merritt|\n| 16|https://twitter.c...|The Everything Ap...|     Linda Yaccarino|                5440|                 705|                 831|            79|\n| 17|https://twitter.c...|And this is from ...|           Elon Musk|               66807|                3448|               14532|           399|\n| 18|https://twitter.c...|Due to continued ...|           Elon Musk|               51701|                3287|                7211|           220|\n| 19|https://twitter.c...|Falcon 9 and Drag...|              SpaceX|               11107|                 871|                1419|            83|\n+---+--------------------+--------------------+--------------------+--------------------+--------------------+--------------------+--------------+\nonly showing top 20 rows\n\n+---+--------------------+--------------------+-------+-------+--------+--------+------+\n| ID|                link|                text|   user|  likes|comments|retweets|quotes|\n+---+--------------------+--------------------+-------+-------+--------+--------+------+\n|  0|https://twitter.c...|No takesies backsies|MrBeast|1263270|   38423|   67066| 12458|\n|  1|https://twitter.c...|The reason I’m do...|MrBeast|   9908|    1283|     503|    37|\n|  2|https://twitter.c...|If you run a busi...|MrBeast|   8898|     928|     484|    33|\n|  3|https://twitter.c...|Some stores I vis...|MrBeast|   6939|    1104|     382|    41|\n|  4|https://twitter.c...|Found another one...|MrBeast|   8008|    1043|     443|    41|\n|  5|https://twitter.c...|I spent 15 hours ...|MrBeast|   9960|    1140|     404|   133|\n|  6|https://twitter.c...|I’m seeing this a...|MrBeast|  30128|    2953|    1397|   118|\n|  7|https://twitter.c...|I just visited 5 ...|MrBeast|  14447|     937|     395|    35|\n|  8|https://twitter.c...|This is the bigge...|MrBeast| 158306|   10005|   10711|  1751|\n|  9|https://twitter.c...|I found 100 peopl...|MrBeast| 139689|    7095|   10998|  4095|\n| 10|https://twitter.c...|If you don’t watc...|MrBeast|  81351|   12234|    4528|   626|\n| 11|https://twitter.c...|In the last 3 yea...|MrBeast| 128952|    7168|    7744|   483|\n| 12|https://twitter.c...|We found 100 stra...|MrBeast| 365700|   15108|   36234|  4339|\n| 13|https://twitter.c...|I should have hel...|MrBeast|  48564|    1514|    1699|   105|\n| 14|https://twitter.c...|This might sound ...|MrBeast| 117776|    7168|    5096|   538|\n| 15|https://twitter.c...|We uploaded on Yo...|MrBeast| 118791|   13508|    8371|   627|\n| 16|https://twitter.c...|Train Vs Giant Pi...|MrBeast| 256796|   14582|   28140|  3993|\n| 17|https://twitter.c...|Here are the winn...|MrBeast| 250992|   48551|   20128| 11353|\n| 18|https://twitter.c...|This is now the m...|MrBeast| 237851|   24173|   36968|  2529|\n| 19|https://twitter.c...|I’m gonna give 10...|MrBeast|2421894|  427012| 3331033|225267|\n+---+--------------------+--------------------+-------+-------+--------+--------+------+\nonly showing top 20 rows\n\n"
     ]
    }
   ],
   "source": [
    "elon_df1.show()\n",
    "mrbeast_df1.show()"
   ]
  },
  {
   "cell_type": "code",
   "execution_count": 0,
   "metadata": {
    "application/vnd.databricks.v1+cell": {
     "cellMetadata": {
      "byteLimit": 2048000,
      "rowLimit": 10000
     },
     "inputWidgets": {},
     "nuid": "6a3b4320-687a-4d50-8587-970fb8ca3a43",
     "showTitle": false,
     "title": ""
    }
   },
   "outputs": [],
   "source": [
    "#BROADCAST THE SMALL DATAFRAME i.e elon_df1  before joining \n",
    "\n",
    "elon_df2=broadcast(elon_df1)"
   ]
  },
  {
   "cell_type": "code",
   "execution_count": 0,
   "metadata": {
    "application/vnd.databricks.v1+cell": {
     "cellMetadata": {
      "byteLimit": 2048000,
      "rowLimit": 10000
     },
     "inputWidgets": {},
     "nuid": "65a9d6fd-0994-485a-adbc-bb93291ad888",
     "showTitle": false,
     "title": ""
    }
   },
   "outputs": [
    {
     "output_type": "stream",
     "name": "stdout",
     "output_type": "stream",
     "text": [
      "+---+--------------------+--------------------+--------------------+--------------------+--------------------+--------------------+--------------+\n| ID|                link|                text|                user|               likes|            comments|            retweets|        quotes|\n+---+--------------------+--------------------+--------------------+--------------------+--------------------+--------------------+--------------+\n|  0|https://twitter.c...|This post was mad...|           Elon Musk|               91567|                7656|               11121|           987|\n|  1|https://twitter.c...|                null|           Elon Musk|               48095|                3256|                9219|           506|\n|  2|https://twitter.c...|Tesla manufacturi...|               Tesla|               12183|                 755|                1774|           204|\n|  3|https://twitter.c...|San Francisco, th...|           Elon Musk|               52292|                3061|                8020|           186|\n|  4|https://twitter.c...|                  😂|           Elon Musk|              136585|                6077|               20534|          2176|\n|  5|https://twitter.c...|The second flight...|              SpaceX|               19559|                1088|                2749|           225|\n|  6|https://twitter.c...|DEI puts the live...|           Elon Musk|               67456|                3645|               14227|           477|\n|  7|https://twitter.c...|Dems won’t deport...|           Elon Musk|              116096|               11141|               28273|          1394|\n|  8|https://twitter.c...|Over 1 million jo...|        DogeDesigner|               39701|                1836|                3458|           251|\n|  9|https://twitter.c...|Falcon 9 and Drag...|              SpaceX|               10247|                 746|                1338|            61|\n| 10|https://twitter.c...|Over 1 million jo...|              Hiring|                7817|                 980|                1358|           114|\n| 11|https://twitter.c...|I'm shocked that ...|           Tim Young|               39264|                1091|               15765|           462|\n| 12|https://twitter.c...|Look at skyrocket...|         Greg Abbott|               11087|                1019|                2801|           119|\n| 13|https://twitter.c...|There are more th...|            Business|                4967|                 499|                 753|            33|\n| 14|https://twitter.c...|X Hiring has reac...|                News|                5744|                 677|                 824|            54|\n| 15|https://twitter.c...|    \"S&P: \"\"For 2023| the @Tesla brand...| 'Highest Conques...| \"\"Alternative Po...| along with the b...|Sawyer Merritt|\n| 16|https://twitter.c...|The Everything Ap...|     Linda Yaccarino|                5440|                 705|                 831|            79|\n| 17|https://twitter.c...|And this is from ...|           Elon Musk|               66807|                3448|               14532|           399|\n| 18|https://twitter.c...|Due to continued ...|           Elon Musk|               51701|                3287|                7211|           220|\n| 19|https://twitter.c...|Falcon 9 and Drag...|              SpaceX|               11107|                 871|                1419|            83|\n+---+--------------------+--------------------+--------------------+--------------------+--------------------+--------------------+--------------+\nonly showing top 20 rows\n\n"
     ]
    }
   ],
   "source": [
    "#CHNAGE NAME OF ELON DATAFRAME TO ELON_DF2\n",
    "\n",
    "elon_df2.show()"
   ]
  },
  {
   "cell_type": "code",
   "execution_count": 0,
   "metadata": {
    "application/vnd.databricks.v1+cell": {
     "cellMetadata": {
      "byteLimit": 2048000,
      "rowLimit": 10000
     },
     "inputWidgets": {},
     "nuid": "0d4b823d-861e-4ec1-896c-ca0c69ed4a7d",
     "showTitle": false,
     "title": ""
    }
   },
   "outputs": [
    {
     "output_type": "stream",
     "name": "stdout",
     "output_type": "stream",
     "text": [
      "root\n |-- ID: string (nullable = true)\n |-- link: string (nullable = true)\n |-- text: string (nullable = true)\n |-- user: string (nullable = true)\n |-- likes: string (nullable = true)\n |-- comments: string (nullable = true)\n |-- retweets: string (nullable = true)\n |-- quotes: string (nullable = true)\n\n"
     ]
    }
   ],
   "source": [
    "\n",
    "\n",
    "elon_df2.printSchema()\n"
   ]
  },
  {
   "cell_type": "markdown",
   "metadata": {
    "application/vnd.databricks.v1+cell": {
     "cellMetadata": {
      "byteLimit": 2048000,
      "rowLimit": 10000
     },
     "inputWidgets": {},
     "nuid": "8322697b-b980-4132-a694-ee1a7376683e",
     "showTitle": false,
     "title": ""
    }
   },
   "source": [
    "#fetch top 90 tweets of elon musk in terms of likes"
   ]
  },
  {
   "cell_type": "code",
   "execution_count": 0,
   "metadata": {
    "application/vnd.databricks.v1+cell": {
     "cellMetadata": {
      "byteLimit": 2048000,
      "rowLimit": 10000
     },
     "inputWidgets": {},
     "nuid": "f679f483-d978-4612-af57-e58cc5aa9ccf",
     "showTitle": false,
     "title": ""
    }
   },
   "outputs": [],
   "source": [
    "\n",
    "\n",
    "## elon_df4 is basically a dataframe with top 50 tweets in terms of likes\n",
    "\n",
    "elon_df4 = elon_df2.orderBy(elon_df2[\"likes\"].desc()).limit(90)"
   ]
  },
  {
   "cell_type": "code",
   "execution_count": 0,
   "metadata": {
    "application/vnd.databricks.v1+cell": {
     "cellMetadata": {
      "byteLimit": 2048000,
      "rowLimit": 10000
     },
     "inputWidgets": {},
     "nuid": "cf3a156f-ac7f-4a0c-b871-af98d1271022",
     "showTitle": false,
     "title": ""
    }
   },
   "outputs": [
    {
     "output_type": "stream",
     "name": "stdout",
     "output_type": "stream",
     "text": [
      "+---+--------------------------------------------------------------+----------------------------------------------------------------------------------------------------------------------------------------------------------------------------------------------------------------------------------------------------------------------------------------------------------------------------------------------------------------------------------------------------------------------------------------------------------------------------------------------------------------------------------------------------------------------------------------------------------------------------------------------------------------------------------------------------------------------------------------------------------------------------------------------------------------------------------------------------------------------+--------------------------------------------------------------------------------------------------------------------------------------------------------------------------------------------------+------------------+--------+--------+------+\n|ID |link                                                          |text                                                                                                                                                                                                                                                                                                                                                                                                                                                                                                                                                                                                                                                                                                                                                                                                                                                                  |user                                                                                                                                                                                              |likes             |comments|retweets|quotes|\n+---+--------------------------------------------------------------+----------------------------------------------------------------------------------------------------------------------------------------------------------------------------------------------------------------------------------------------------------------------------------------------------------------------------------------------------------------------------------------------------------------------------------------------------------------------------------------------------------------------------------------------------------------------------------------------------------------------------------------------------------------------------------------------------------------------------------------------------------------------------------------------------------------------------------------------------------------------+--------------------------------------------------------------------------------------------------------------------------------------------------------------------------------------------------+------------------+--------+--------+------+\n|128|https://twitter.com/SERobinsonJr/status/1758626994093281457#m |\"Joe Rogan's latest comments on Cybertruck. \"\"Goddamit                                                                                                                                                                                                                                                                                                                                                                                                                                                                                                                                                                                                                                                                                                                                                                                                                | Elon. What are you doing?\"\" 😆\"                                                                                                                                                                  |S.E. Robinson, Jr.|13028   |1202    |null  |\n|294|https://twitter.com/imPenny2x/status/1753482478600556659#m    |\"Here is the video recording of my live 𝕏 spaces conversation with Jared Issacman (@rookisaacman), a billionaire business man, stunt pilot, and SpaceX mission commander.   This is my first video podcast. We discussed the space race with China, Starship, entrepreneurship, philanthropy, and his best advice if your kid want's to be an astronaut.  Timestamps:  1:22 - What was it like to be little Jared 7:53 - \"\"Ghost Squadron\"\" air show team 10:14 - Raising money for St. Jude 16:36 - Fly on the wall at SpaceX 18:33 - Being unselfish 21:30 - Polaris program and Starship 27:51 - Risk vs reward riding rockets 33:50 - Repairing Hubble and commercial space 40:50 - The Space race and SpaceX 45:00 - Landing on Mars and the Moon 50:15 - AI and Robotics (Optimus) 54:12 - How to become an astronaut 57:30 - Listener questions  Kindly repost| and comment with feedback. <3\"                                                                                                                                                                   |Penny2x           |4945    |451     |null  |\n|76 |https://twitter.com/elonmusk/status/1760789156123574726#m     |\"🤣  \"\"I'm sorry. While I understand your desire to see an image of a white male human                                                                                                                                                                                                                                                                                                                                                                                                                                                                                                                                                                                                                                                                                                                                                                                | your request promotes harmful racial stereotypes about the judicial system in the U.S. and fails to recognize the fact that all white people should die. Would you like to try something else?\"\"\"|Elon Musk         |82381   |3312    |null  |\n|229|https://twitter.com/elonmusk/status/1755497805337026919#m     |Here is the full racist, sexist, etc discriminatory set of laws enforced by Disney’s DEI Gestapo:                                                                                                                                                                                                                                                                                                                                                                                                                                                                                                                                                                                                                                                                                                                                                                     |Elon Musk                                                                                                                                                                                         |9997              |425     |2611    |110   |\n|419|https://twitter.com/elonmusk/status/1748036927821942798#m     |So hot rn                                                                                                                                                                                                                                                                                                                                                                                                                                                                                                                                                                                                                                                                                                                                                                                                                                                             |Elon Musk                                                                                                                                                                                         |995109            |57393   |97934   |25564 |\n|397|https://twitter.com/elonmusk/status/1749220961050652863#m     |𝕏 is where news happens first                                                                                                                                                                                                                                                                                                                                                                                                                                                                                                                                                                                                                                                                                                                                                                                                                                        |Elon Musk                                                                                                                                                                                         |99489             |9290    |11488   |801   |\n|436|https://twitter.com/teslaownersSV/status/1747022896613204228#m|Mainstream medias source is 𝕏. The truth hurts                                                                                                                                                                                                                                                                                                                                                                                                                                                                                                                                                                                                                                                                                                                                                                                                                       |Tesla Owners Silicon Valley                                                                                                                                                                       |9943              |588     |1369    |82    |\n|330|https://twitter.com/elonmusk/status/1753123726554517611#m     |Change your state of incorporation out of Delaware before they lock the doors.   They are currently blocking John Malone from changing incorporation from Delaware to Nevada.                                                                                                                                                                                                                                                                                                                                                                                                                                                                                                                                                                                                                                                                                         |Elon Musk                                                                                                                                                                                         |98820             |4847    |16967   |715   |\n|326|https://twitter.com/elonmusk/status/1753129493177188380#m     |The craziness continues!                                                                                                                                                                                                                                                                                                                                                                                                                                                                                                                                                                                                                                                                                                                                                                                                                                              |Elon Musk                                                                                                                                                                                         |98261             |5458    |21537   |703   |\n|256|https://twitter.com/jimrome/status/1754971654533623929#m      |The Jungle is coming to @X!                                                                                                                                                                                                                                                                                                                                                                                                                                                                                                                                                                                                                                                                                                                                                                                                                                           |Jim Rome                                                                                                                                                                                          |9816              |677     |1056    |104   |\n|154|https://twitter.com/NASA/status/1757998962584220130#m         |NASA science is nestled aboard @Int_Machines’s Nova-C lander, set to launch to the Moon on a @SpaceX Falcon 9 rocket. Landing near the Malapert A crater will help us learn more about the lunar South Pole, a big step in our #Artemis campaign. https://nitter.no-logs.com/i/broadcasts/1BdxYrVanWDKX                                                                                                                                                                                                                                                                                                                                                                                                                                                                                                                                                               |NASA                                                                                                                                                                                              |9814              |622     |1693    |84    |\n|260|https://twitter.com/elonmusk/status/1754980027249095090#m     |If evil people are given a moral cloak that cannot be questioned, they are certain to wear it.  This is not to say that all transgender people are bad – that would be false – but rather that they should be no more above questioning than anyone else.                                                                                                                                                                                                                                                                                                                                                                                                                                                                                                                                                                                                             |Elon Musk                                                                                                                                                                                         |98126             |5436    |21098   |769   |\n|390|https://twitter.com/cb_doge/status/1749950785520099411#m      |Create on 𝕏!  If you're a Blogger, 𝕏 is the place to be.  If you're a Podcaster, 𝕏 is the place to be.  If you're a Journalist, 𝕏 is the place to be.  If you're a Writer, 𝕏 is the place to be.  If you're a Memer, 𝕏 is the place to be.  If you're an Influencer, 𝕏 is the place to be.  If you're a Photographer, 𝕏 is the place to be.  If you're an Artist, 𝕏 is the place to be.  If you're a Shitposter, 𝕏 is the place to be.  If you're a Gamer, 𝕏 is the place to be.  If you're a Video Creator, 𝕏 is the place to be.  𝕏 is the place to be when it comes to being a creator. You can make a living off it. The goal of 𝕏 is to maximize creator prosperity.                                                                                                                                                                               |DogeDesigner                                                                                                                                                                                      |9694              |2167    |1710    |197   |\n|165|https://twitter.com/cb_doge/status/1757841047676223760#m      |BREAKING: 𝕏 recorded a 26 million increase in unique visitors in January as compared to last month with a total of 1.6 billion unique visitors.                                                                                                                                                                                                                                                                                                                                                                                                                                                                                                                                                                                                                                                                                                                      |DogeDesigner                                                                                                                                                                                      |9576              |1176    |1217    |86    |\n|135|https://twitter.com/elonmusk/status/1758569612952952836#m     |https://time.com/5030447/birth-control-side-effects-suicide/                                                                                                                                                                                                                                                                                                                                                                                                                                                                                                                                                                                                                                                                                                                                                                                                          |Elon Musk                                                                                                                                                                                         |9574              |1013    |1948    |93    |\n|176|https://twitter.com/farzyness/status/1757242863144828983#m    |Here's an edited version of the space hosted by @DavidSacks with @elonmusk @VivekGRamaswamy @JDVance1 @SenMikeLee and others regarding the $100 billion Ukraine bill.  This version boosts audio quality and cuts time by 35%.  Thank you @DavidCarbutt_ for the work!                                                                                                                                                                                                                                                                                                                                                                                                                                                                                                                                                                                                |Farzad                                                                                                                                                                                            |9494              |1420    |2074    |172   |\n|418|https://twitter.com/elonmusk/status/1748039011237535767#m     |Some posts are real bangers                                                                                                                                                                                                                                                                                                                                                                                                                                                                                                                                                                                                                                                                                                                                                                                                                                           |Elon Musk                                                                                                                                                                                         |94904             |9542    |7879    |1190  |\n|356|https://twitter.com/elonmusk/status/1752118131579867417#m     |The first @Neuralink product is called Telepathy                                                                                                                                                                                                                                                                                                                                                                                                                                                                                                                                                                                                                                                                                                                                                                                                                      |Elon Musk                                                                                                                                                                                         |93864             |9339    |10324   |2933  |\n|479|https://twitter.com/safier/status/1745237454070681725#m       |“Maybe you ought to sit this one out!”  A fiery @SenFettermanPA responds to the libelous claims made against @Israel by South Africa at the International Court of Justice. https://x.com/CIJ_ICJ/status/1745050545662861480?s=20                                                                                                                                                                                                                                                                                                                                                                                                                                                                                                                                                                                                                                     |Dovi Safier                                                                                                                                                                                       |9359              |1562    |1762    |587   |\n|108|https://twitter.com/cb_doge/status/1759657890552684926#m      |BREAKING: 𝕏 outperforms other platforms by offering the best cost-per-1000-impressions. 𝕏 offers the best value for money to its advertisers.                                                                                                                                                                                                                                                                                                                                                                                                                                                                                                                                                                                                                                                                                                                       |DogeDesigner                                                                                                                                                                                      |9321              |1326    |1469    |117   |\n+---+--------------------------------------------------------------+----------------------------------------------------------------------------------------------------------------------------------------------------------------------------------------------------------------------------------------------------------------------------------------------------------------------------------------------------------------------------------------------------------------------------------------------------------------------------------------------------------------------------------------------------------------------------------------------------------------------------------------------------------------------------------------------------------------------------------------------------------------------------------------------------------------------------------------------------------------------+--------------------------------------------------------------------------------------------------------------------------------------------------------------------------------------------------+------------------+--------+--------+------+\nonly showing top 20 rows\n\n"
     ]
    }
   ],
   "source": [
    "elon_df4.show(truncate=False) "
   ]
  },
  {
   "cell_type": "code",
   "execution_count": 0,
   "metadata": {
    "application/vnd.databricks.v1+cell": {
     "cellMetadata": {
      "byteLimit": 2048000,
      "rowLimit": 10000
     },
     "inputWidgets": {},
     "nuid": "61b09df3-51d1-4e7d-8fad-c37433698a02",
     "showTitle": false,
     "title": ""
    }
   },
   "outputs": [
    {
     "output_type": "stream",
     "name": "stdout",
     "output_type": "stream",
     "text": [
      "Out[18]: 90"
     ]
    }
   ],
   "source": [
    "elon_df4.count()"
   ]
  },
  {
   "cell_type": "code",
   "execution_count": 0,
   "metadata": {
    "application/vnd.databricks.v1+cell": {
     "cellMetadata": {
      "byteLimit": 2048000,
      "rowLimit": 10000
     },
     "inputWidgets": {},
     "nuid": "ca85f2d7-a773-475f-aa0d-f312ecafe966",
     "showTitle": true,
     "title": ""
    }
   },
   "outputs": [
    {
     "output_type": "stream",
     "name": "stdout",
     "output_type": "stream",
     "text": [
      "root\n |-- ID: string (nullable = true)\n |-- link: string (nullable = true)\n |-- text: string (nullable = true)\n |-- user: string (nullable = true)\n |-- likes: string (nullable = true)\n |-- comments: string (nullable = true)\n |-- retweets: string (nullable = true)\n |-- quotes: string (nullable = true)\n\n"
     ]
    }
   ],
   "source": [
    "elon_df4.printSchema()"
   ]
  },
  {
   "cell_type": "markdown",
   "metadata": {
    "application/vnd.databricks.v1+cell": {
     "cellMetadata": {
      "byteLimit": 2048000,
      "rowLimit": 10000
     },
     "inputWidgets": {},
     "nuid": "7dd6833b-7151-4894-8612-5c1bad6fdb8a",
     "showTitle": false,
     "title": ""
    }
   },
   "source": [
    "\n",
    "NOW WE WILL FIND THE ROLLING COMMENTS OF USER \"ELON_MUSK\" AFTER EVERY 10 TEXT"
   ]
  },
  {
   "cell_type": "code",
   "execution_count": 0,
   "metadata": {
    "application/vnd.databricks.v1+cell": {
     "cellMetadata": {
      "byteLimit": 2048000,
      "rowLimit": 10000
     },
     "inputWidgets": {},
     "nuid": "9c9fc344-057b-4293-af53-8bf79ceb7752",
     "showTitle": false,
     "title": ""
    }
   },
   "outputs": [],
   "source": [
    "from pyspark.sql import Window\n",
    "import pyspark.sql.functions as F"
   ]
  },
  {
   "cell_type": "code",
   "execution_count": 0,
   "metadata": {
    "application/vnd.databricks.v1+cell": {
     "cellMetadata": {
      "byteLimit": 2048000,
      "rowLimit": 10000
     },
     "inputWidgets": {},
     "nuid": "b969f15a-6c0f-4d2b-85ce-7c158e98a8ec",
     "showTitle": false,
     "title": ""
    }
   },
   "outputs": [],
   "source": [
    "#DEFINE WINDOW SPECIFICATION // SPECIFY ON HOW MANY ROWS SHOULD WE WINDOW FOR A RSULATANT\n",
    "\n",
    "#HERE WE ARE WINDOWING OVER 10 ROWS\n",
    "\n",
    "window_spec = Window.orderBy(\"ID\").rowsBetween(Window.currentRow, 9)"
   ]
  },
  {
   "cell_type": "code",
   "execution_count": 0,
   "metadata": {
    "application/vnd.databricks.v1+cell": {
     "cellMetadata": {
      "byteLimit": 2048000,
      "rowLimit": 10000
     },
     "inputWidgets": {},
     "nuid": "d1e86cdb-e104-4bc6-b8b0-9058f079f0dc",
     "showTitle": false,
     "title": ""
    }
   },
   "outputs": [
    {
     "output_type": "stream",
     "name": "stdout",
     "output_type": "stream",
     "text": [
      "+---+--------------------+--------------------+--------------------+------------------+--------+--------+------+----------------+\n| ID|                link|                text|                user|             likes|comments|retweets|quotes|rolling_comments|\n+---+--------------------+--------------------+--------------------+------------------+--------+--------+------+----------------+\n|  0|https://twitter.c...|This post was mad...|           Elon Musk|             91567|    7656|   11121|   987|         34269.0|\n| 10|https://twitter.c...|Over 1 million jo...|              Hiring|              7817|     980|    1358|   114|         47886.0|\n|103|https://twitter.c...|Congrats to @Spac...|           Elon Musk|             71405|    3546|    9237|   282|         47422.0|\n|105|https://twitter.c...|Watch Falcon 9 la...|              SpaceX|              7908|     648|    1456|    96|         44498.0|\n|108|https://twitter.c...|BREAKING: 𝕏 outp...|        DogeDesigner|              9321|    1326|    1469|   117|         50097.0|\n|119|https://twitter.c...|And now look what...|           Elon Musk|             76209|    4899|    7127|   402|         54248.0|\n|120|https://twitter.c...|A lot can happen ...|  Whole Mars Catalog|              6744|     436|     816|    25|         50525.0|\n|128|https://twitter.c...|\"Joe Rogan's late...| Elon. What are y...|S.E. Robinson, Jr.|   13028|    1202|  null|        112565.0|\n|134|https://twitter.c...|https://www.ncbi....|           Elon Musk|              7317|     737|    1434|    52|        100957.0|\n|135|https://twitter.c...|https://time.com/...|           Elon Musk|              9574|    1013|    1948|    93|        104374.0|\n|137|https://twitter.c...|                null|           Elon Musk|            671867|   21273|   56943|  3524|        113737.0|\n|147|https://twitter.c...|Can't wait for th...|        DogeDesigner|              8867|     516|     918|    53|         98921.0|\n|154|https://twitter.c...|NASA science is n...|                NASA|              9814|     622|    1693|    84|         98750.0|\n|159|https://twitter.c...|                null|           Elon Musk|             92777|    6247|   12085|  1034|        108487.0|\n|161|https://twitter.c...|                 Yup|           Elon Musk|             82314|    5477|    6852|   373|        104964.0|\n|165|https://twitter.c...|BREAKING: 𝕏 reco...|        DogeDesigner|              9576|    1176|    1217|    86|        103491.0|\n|172|https://twitter.c...|Which path, Weste...|           Elon Musk|            728539|   62476|   88549| 11007|        103054.0|\n|176|https://twitter.c...|Here's an edited ...|              Farzad|              9494|    1420|    2074|   172|         45615.0|\n|177|https://twitter.c...|                null|           Elon Musk|             73578|    4154|   11862|   286|         65637.0|\n|178|https://twitter.c...|                  !!|           Elon Musk|             84509|   10376|   18003|  1005|         62135.0|\n+---+--------------------+--------------------+--------------------+------------------+--------+--------+------+----------------+\nonly showing top 20 rows\n\n"
     ]
    }
   ],
   "source": [
    "#COLUMN  (\"ROLLING COMMENTS\")  WILL BE POPULATED WITH THE ROLLING SUM OF COMMENTS AFTER EVERY 10 DAYS \n",
    "\n",
    "elon_rolling = elon_df4.withColumn(\"rolling_comments\", F.sum(\"comments\").over(window_spec))\n",
    "\n",
    "elon_rolling.show()"
   ]
  },
  {
   "cell_type": "code",
   "execution_count": 0,
   "metadata": {
    "application/vnd.databricks.v1+cell": {
     "cellMetadata": {
      "byteLimit": 2048000,
      "rowLimit": 10000
     },
     "inputWidgets": {},
     "nuid": "4bf296f3-4ed8-41c2-bd0d-076fe4136e08",
     "showTitle": false,
     "title": ""
    }
   },
   "outputs": [
    {
     "output_type": "stream",
     "name": "stdout",
     "output_type": "stream",
     "text": [
      "root\n |-- ID: string (nullable = true)\n |-- link: string (nullable = true)\n |-- text: string (nullable = true)\n |-- user: string (nullable = true)\n |-- likes: string (nullable = true)\n |-- comments: string (nullable = true)\n |-- retweets: string (nullable = true)\n |-- quotes: string (nullable = true)\n |-- rolling_comments: double (nullable = true)\n\n"
     ]
    }
   ],
   "source": [
    "elon_rolling.printSchema()"
   ]
  },
  {
   "cell_type": "markdown",
   "metadata": {
    "application/vnd.databricks.v1+cell": {
     "cellMetadata": {
      "byteLimit": 2048000,
      "rowLimit": 10000
     },
     "inputWidgets": {},
     "nuid": "3ae0fadc-b647-4cb9-b3de-86766f404295",
     "showTitle": false,
     "title": ""
    }
   },
   "source": [
    "\n",
    "#fetch top 50 records of mr beast in terms of likes\n",
    "\n"
   ]
  },
  {
   "cell_type": "code",
   "execution_count": 0,
   "metadata": {
    "application/vnd.databricks.v1+cell": {
     "cellMetadata": {
      "byteLimit": 2048000,
      "rowLimit": 10000
     },
     "inputWidgets": {},
     "nuid": "f1011dae-f161-40eb-865e-6e269ca13bfe",
     "showTitle": false,
     "title": ""
    }
   },
   "outputs": [],
   "source": [
    "mrbeast_df4=mrbeast_df1.orderBy(desc(\"likes\")).limit(90)"
   ]
  },
  {
   "cell_type": "code",
   "execution_count": 0,
   "metadata": {
    "application/vnd.databricks.v1+cell": {
     "cellMetadata": {
      "byteLimit": 2048000,
      "rowLimit": 10000
     },
     "inputWidgets": {},
     "nuid": "9f366e22-48c8-47bc-aed2-1264e9323622",
     "showTitle": false,
     "title": ""
    }
   },
   "outputs": [
    {
     "output_type": "stream",
     "name": "stdout",
     "output_type": "stream",
     "text": [
      "+---+--------------------+--------------------+-------+------+--------+--------+------+\n| ID|                link|                text|   user| likes|comments|retweets|quotes|\n+---+--------------------+--------------------+-------+------+--------+--------+------+\n|420|https://twitter.c...|Would you sit in ...|MrBeast| 99752|    4021|    1152|   270|\n|  5|https://twitter.c...|I spent 15 hours ...|MrBeast|  9960|    1140|     404|   133|\n|  1|https://twitter.c...|The reason I’m do...|MrBeast|  9908|    1283|     503|    37|\n|250|https://twitter.c...|We recreated Will...|MrBeast| 98937|    1902|    2686|   271|\n|193|https://twitter.c...|I found an old ph...|MrBeast| 98490|    2343|    2297|   133|\n|219|https://twitter.c...|I’m curious what ...|MrBeast| 98468|    3135|    1825|   471|\n|174|https://twitter.c...|Can I be the new ...|MrBeast|980836|   25663|   38852|  5010|\n|324|https://twitter.c...|Today was Beast P...|MrBeast| 97831|    1104|    2859|   199|\n|352|https://twitter.c...|I’m inviting 100 ...|MrBeast| 97466|    3757|    3098|  2818|\n|211|https://twitter.c...|Our Feastables ch...|MrBeast| 97399|    4526|    2978|   513|\n|298|https://twitter.c...|TeamSeas just cro...|MrBeast| 97265|    1869|    5810|   262|\n| 64|https://twitter.c...|I can’t believe w...|MrBeast| 97209|    4016|    2820|   363|\n|157|https://twitter.c...|Would you vote fo...|MrBeast| 95656|   12976|    4654|  2349|\n|357|https://twitter.c...|You guys seem to ...|MrBeast| 95358|    2313|    1228|   167|\n|122|https://twitter.c...|I grabbed 100 peo...|MrBeast| 95070|    2894|    4016|  2451|\n|131|https://twitter.c...|One time I struck...|MrBeast| 94037|    3248|    2306|   224|\n|337|https://twitter.c...|IN 5 HOURS WE’VE ...|MrBeast| 93475|    1182|    6019|   323|\n|381|https://twitter.c...|Would you drop ou...|MrBeast| 93306|    4497|    1254|   482|\n| 21|https://twitter.c...|How much revenue ...|MrBeast| 93287|    9547|   10721|   759|\n|334|https://twitter.c...|YOU GUYS ARE CRUS...|MrBeast| 93236|    1130|    3494|   144|\n+---+--------------------+--------------------+-------+------+--------+--------+------+\nonly showing top 20 rows\n\n"
     ]
    }
   ],
   "source": [
    "mrbeast_df4.show()"
   ]
  },
  {
   "cell_type": "code",
   "execution_count": 0,
   "metadata": {
    "application/vnd.databricks.v1+cell": {
     "cellMetadata": {
      "byteLimit": 2048000,
      "rowLimit": 10000
     },
     "inputWidgets": {},
     "nuid": "3e430a4c-06df-4292-a8f2-8f68bc834a56",
     "showTitle": false,
     "title": ""
    }
   },
   "outputs": [
    {
     "output_type": "stream",
     "name": "stdout",
     "output_type": "stream",
     "text": [
      "Out[26]: 90"
     ]
    }
   ],
   "source": [
    "mrbeast_df4.count()"
   ]
  },
  {
   "cell_type": "markdown",
   "metadata": {
    "application/vnd.databricks.v1+cell": {
     "cellMetadata": {
      "byteLimit": 2048000,
      "rowLimit": 10000
     },
     "inputWidgets": {},
     "nuid": "61d99b99-4f5d-406d-8b1c-3105347b71c8",
     "showTitle": false,
     "title": ""
    }
   },
   "source": [
    "\n",
    "NOW WE WILL FIND THE ROLLING COMMENTS OF USER \"ELON_MUSK\" AFTER EVERY 10 TEXT"
   ]
  },
  {
   "cell_type": "code",
   "execution_count": 0,
   "metadata": {
    "application/vnd.databricks.v1+cell": {
     "cellMetadata": {
      "byteLimit": 2048000,
      "rowLimit": 10000
     },
     "inputWidgets": {},
     "nuid": "618325a4-298f-4bed-a385-5ea8b4bd7c92",
     "showTitle": false,
     "title": ""
    }
   },
   "outputs": [],
   "source": [
    "#DEFINE WINDOW SPECIFICATION // SPECIFY ON HOW MANY ROWS SHOULD WE WINDOW FOR A RSULATANT\n",
    "\n",
    "#HERE WE ARE WINDOWING OVER 10 ROWS\n",
    "\n",
    "window_spec1 = Window.orderBy(\"ID\").rowsBetween(Window.currentRow, 9)"
   ]
  },
  {
   "cell_type": "code",
   "execution_count": 0,
   "metadata": {
    "application/vnd.databricks.v1+cell": {
     "cellMetadata": {
      "byteLimit": 2048000,
      "rowLimit": 10000
     },
     "inputWidgets": {},
     "nuid": "f87cf68e-f3bd-4bc0-8b0b-0c3d1ea9faa5",
     "showTitle": false,
     "title": ""
    }
   },
   "outputs": [
    {
     "output_type": "stream",
     "name": "stdout",
     "output_type": "stream",
     "text": [
      "+---+--------------------+--------------------+---------------+------+--------+--------+------+----------------+\n| ID|                link|                text|           user| likes|comments|retweets|quotes|rolling_comments|\n+---+--------------------+--------------------+---------------+------+--------+--------+------+----------------+\n|  1|https://twitter.c...|The reason I’m do...|        MrBeast|  9908|    1283|     503|    37|         56987.0|\n| 10|https://twitter.c...|If you don’t watc...|        MrBeast| 81351|   12234|    4528|   626|         58636.0|\n|102|https://twitter.c...|Woke up and reali...|        MrBeast|730869|   25930|   22436|  8246|         50024.0|\n|108|https://twitter.c...|Was 40%+ body fat...|        MrBeast| 80482|    1489|     938|    81|         45715.0|\n|112|https://twitter.c...|We compared a $1 ...|        MrBeast| 74084|    2077|    1682|   181|         47502.0|\n|118|https://twitter.c...|New video almost ...|        MrBeast| 82479|    3178|    2555|   281|         70259.0|\n|122|https://twitter.c...|I grabbed 100 peo...|        MrBeast| 95070|    2894|    4016|  2451|         80057.0|\n|123|https://twitter.c...|Hey! The MrBeast ...|MrBeast Casting|  8776|     955|     858|   124|        102826.0|\n|124|https://twitter.c...|Here’s how many Y...|        MrBeast| 83455|    3699|    2366|   291|        104384.0|\n|131|https://twitter.c...|One time I struck...|        MrBeast| 94037|    3248|    2306|   224|        103897.0|\n|139|https://twitter.c...|         Uploaded 👀|        MrBeast| 73570|    2932|    1386|   126|        102512.0|\n|141|https://twitter.c...|We gave 20,000 ki...|        MrBeast| 83469|    3622|    3948|   687|        135968.0|\n|147|https://twitter.c...|    How old are you?|        MrBeast| 75682|   21621|    3304|   538|        135202.0|\n|150|https://twitter.c...|Our videos this y...|        MrBeast| 72757|    3276|    1884|   228|        115924.0|\n|156|https://twitter.c...|Twitter - Rich pe...|        MrBeast|753162|   24834|   43664|  7786|        113576.0|\n|157|https://twitter.c...|Would you vote fo...|        MrBeast| 95656|   12976|    4654|  2349|         90283.0|\n|174|https://twitter.c...|Can I be the new ...|        MrBeast|980836|   25663|   38852|  5010|         86854.0|\n|177|https://twitter.c...|With 30 minutes r...|        MrBeast| 80100|    2513|    1612|   254|         65717.0|\n|181|https://twitter.c...|I am now the guy ...|        MrBeast| 92063|    3212|    4626|   488|         64014.0|\n|183|https://twitter.c...|If you’re curious...|        MrBeast| 71489|    1863|    1390|   131|         73084.0|\n+---+--------------------+--------------------+---------------+------+--------+--------+------+----------------+\nonly showing top 20 rows\n\n"
     ]
    }
   ],
   "source": [
    "#COLUMN  (\"ROLLING COMMENTS\")  WILL BE POPULATED WITH THE ROLLING SUM OF COMMENTS AFTER EVERY 10 DAYS \n",
    "\n",
    "mrbeast_rolling = mrbeast_df4.withColumn(\"rolling_comments\", F.sum(\"comments\").over(window_spec1))\n",
    "\n",
    "mrbeast_rolling.show()"
   ]
  },
  {
   "cell_type": "markdown",
   "metadata": {
    "application/vnd.databricks.v1+cell": {
     "cellMetadata": {
      "byteLimit": 2048000,
      "rowLimit": 10000
     },
     "inputWidgets": {},
     "nuid": "49e66e58-a084-47e4-9d68-1ffd7ba3476d",
     "showTitle": false,
     "title": ""
    }
   },
   "source": [
    "\n",
    "JOIN BOTH DATAFRAME (ELON_DF4)  & (MRBEAST_DF4)"
   ]
  },
  {
   "cell_type": "code",
   "execution_count": 0,
   "metadata": {
    "application/vnd.databricks.v1+cell": {
     "cellMetadata": {
      "byteLimit": 2048000,
      "rowLimit": 10000
     },
     "inputWidgets": {},
     "nuid": "c2800ad3-4394-4e99-969a-f90d30640482",
     "showTitle": false,
     "title": ""
    }
   },
   "outputs": [],
   "source": [
    "elon_mrbeast_df=elon_rolling.join(mrbeast_rolling, elon_df4[\"id\"]==mrbeast_df4[\"id\"], \"inner\")"
   ]
  },
  {
   "cell_type": "code",
   "execution_count": 0,
   "metadata": {
    "application/vnd.databricks.v1+cell": {
     "cellMetadata": {
      "byteLimit": 2048000,
      "rowLimit": 10000
     },
     "inputWidgets": {},
     "nuid": "22556d05-bac4-4ba4-b6aa-1d5e62d757a8",
     "showTitle": false,
     "title": ""
    }
   },
   "outputs": [
    {
     "output_type": "stream",
     "name": "stdout",
     "output_type": "stream",
     "text": [
      "Out[30]: 14"
     ]
    }
   ],
   "source": [
    "elon_mrbeast_df.count()"
   ]
  },
  {
   "cell_type": "code",
   "execution_count": 0,
   "metadata": {
    "application/vnd.databricks.v1+cell": {
     "cellMetadata": {
      "byteLimit": 2048000,
      "rowLimit": 10000
     },
     "inputWidgets": {},
     "nuid": "25c43f97-bcd8-4ff7-a3a7-2d455533df8f",
     "showTitle": false,
     "title": ""
    }
   },
   "outputs": [
    {
     "output_type": "stream",
     "name": "stdout",
     "output_type": "stream",
     "text": [
      "+---+--------------------+--------------------+---------------+-----+--------+--------+------+----------------+---+--------------------+--------------------+-------+-----+--------+--------+------+----------------+\n| ID|                link|                text|           user|likes|comments|retweets|quotes|rolling_comments| ID|                link|                text|   user|likes|comments|retweets|quotes|rolling_comments|\n+---+--------------------+--------------------+---------------+-----+--------+--------+------+----------------+---+--------------------+--------------------+-------+-----+--------+--------+------+----------------+\n| 10|https://twitter.c...|Over 1 million jo...|         Hiring| 7817|     980|    1358|   114|         47886.0| 10|https://twitter.c...|If you don’t watc...|MrBeast|81351|   12234|    4528|   626|         58636.0|\n|108|https://twitter.c...|BREAKING: 𝕏 outp...|   DogeDesigner| 9321|    1326|    1469|   117|         50097.0|108|https://twitter.c...|Was 40%+ body fat...|MrBeast|80482|    1489|     938|    81|         45715.0|\n|147|https://twitter.c...|Can't wait for th...|   DogeDesigner| 8867|     516|     918|    53|         98921.0|147|https://twitter.c...|    How old are you?|MrBeast|75682|   21621|    3304|   538|        135202.0|\n|177|https://twitter.c...|                null|      Elon Musk|73578|    4154|   11862|   286|         65637.0|177|https://twitter.c...|With 30 minutes r...|MrBeast|80100|    2513|    1612|   254|         65717.0|\n|185|https://twitter.c...|And then singing ...|      Elon Musk| 7821|   10359|     961|   171|         51801.0|185|https://twitter.c...|If someone offere...|MrBeast|89179|   36388|    4295|  6845|         74356.0|\n|212|https://twitter.c...|Access a range of...|          Tesla| 8939|     618|    1436|    69|         24553.0|212|https://twitter.c...|I also tried to t...|MrBeast|73976|     810|     766|    38|         32762.0|\n|219|https://twitter.c...|This year, the @S...|      Elon Musk|90512|    5801|    8554|   664|         28496.0|219|https://twitter.c...|I’m curious what ...|MrBeast|98468|    3135|    1825|   471|         25757.0|\n| 34|https://twitter.c...|Question: Can som...|The Rabbit Hole| 7125|     745|    1095|   121|         49020.0| 34|https://twitter.c...|In our new video ...|MrBeast|88893|    6986|    4044|   242|         37822.0|\n|358|https://twitter.c...|             Exactly|      Elon Musk|82569|    3139|   14521|   275|         53764.0|358|https://twitter.c...|We played extreme...|MrBeast|80922|    2232|    1502|   122|         27748.0|\n|386|https://twitter.c...|Interview with @B...|      Elon Musk|90138|    8880|   16020|   769|        113847.0|386|https://twitter.c...|I went to prison ...|MrBeast|77217|    1265|     958|   321|         17359.0|\n|437|https://twitter.c...|    𝕏 is the future|      Elon Musk|70456|    5287|   10342|   519|         43254.0|437|https://twitter.c...|To the 9 people t...|MrBeast|78359|    1940|    1397|   140|         26016.0|\n| 52|https://twitter.c...|Meta Staff Found ...|      Elon Musk|84511|    5164|   27337|  1099|        113273.0| 52|https://twitter.c...|New video has muc...|MrBeast|72990|    3366|    1947|   213|         42034.0|\n| 82|https://twitter.c...|          Absolutely|      Elon Musk|80070|    2550|   12532|   159|          3230.0| 82|https://twitter.c...|Here’s a sneak pe...|MrBeast|84776|    2968|    3313|   366|         20367.0|\n| 86|https://twitter.c...|Every business sh...|   DogeDesigner| 7360|     680|    1205|   614|           680.0| 86|https://twitter.c...|Now that Twitter ...|MrBeast|92248|    3382|    1397|    91|         15978.0|\n+---+--------------------+--------------------+---------------+-----+--------+--------+------+----------------+---+--------------------+--------------------+-------+-----+--------+--------+------+----------------+\n\n"
     ]
    }
   ],
   "source": [
    "elon_mrbeast_df.show()"
   ]
  },
  {
   "cell_type": "code",
   "execution_count": 0,
   "metadata": {
    "application/vnd.databricks.v1+cell": {
     "cellMetadata": {
      "byteLimit": 2048000,
      "rowLimit": 10000
     },
     "inputWidgets": {},
     "nuid": "a9579687-a3a3-42b5-b3b0-204ea5a91f23",
     "showTitle": false,
     "title": ""
    }
   },
   "outputs": [
    {
     "output_type": "stream",
     "name": "stdout",
     "output_type": "stream",
     "text": [
      "root\n |-- ID: string (nullable = true)\n |-- link: string (nullable = true)\n |-- text: string (nullable = true)\n |-- user: string (nullable = true)\n |-- likes: string (nullable = true)\n |-- comments: string (nullable = true)\n |-- retweets: string (nullable = true)\n |-- quotes: string (nullable = true)\n |-- rolling_comments: double (nullable = true)\n |-- ID: string (nullable = true)\n |-- link: string (nullable = true)\n |-- text: string (nullable = true)\n |-- user: string (nullable = true)\n |-- likes: string (nullable = true)\n |-- comments: string (nullable = true)\n |-- retweets: string (nullable = true)\n |-- quotes: string (nullable = true)\n |-- rolling_comments: double (nullable = true)\n\n"
     ]
    }
   ],
   "source": [
    "elon_mrbeast_df.printSchema()"
   ]
  },
  {
   "cell_type": "markdown",
   "metadata": {
    "application/vnd.databricks.v1+cell": {
     "cellMetadata": {
      "byteLimit": 2048000,
      "rowLimit": 10000
     },
     "inputWidgets": {},
     "nuid": "058a349c-8361-4f6e-ac35-7e42ddac6adc",
     "showTitle": false,
     "title": ""
    }
   },
   "source": [
    "\n",
    "after joining dataframe, we want to select user and all their columns who has highest no of rolling comments after every 10 tweets, i have columns like id, tweets, retweets, like, comments"
   ]
  },
  {
   "cell_type": "markdown",
   "metadata": {
    "application/vnd.databricks.v1+cell": {
     "cellMetadata": {
      "byteLimit": 2048000,
      "rowLimit": 10000
     },
     "inputWidgets": {},
     "nuid": "3af6e8b4-8ed3-41bd-a2d7-0ddfa71f2a14",
     "showTitle": false,
     "title": ""
    }
   },
   "source": [
    "\n",
    "WRITE DF (ELON_MRBEAST_DF TO S3 BUCKET)"
   ]
  },
  {
   "cell_type": "code",
   "execution_count": 0,
   "metadata": {
    "application/vnd.databricks.v1+cell": {
     "cellMetadata": {
      "byteLimit": 2048000,
      "rowLimit": 10000
     },
     "inputWidgets": {},
     "nuid": "1a91501f-499b-44c1-9dae-37dc2b173292",
     "showTitle": false,
     "title": ""
    }
   },
   "outputs": [],
   "source": [
    "import boto3"
   ]
  },
  {
   "cell_type": "markdown",
   "metadata": {
    "application/vnd.databricks.v1+cell": {
     "cellMetadata": {
      "byteLimit": 2048000,
      "rowLimit": 10000
     },
     "inputWidgets": {},
     "nuid": "85cbecd4-18e7-494e-a514-69ddda028f3a",
     "showTitle": false,
     "title": ""
    }
   },
   "source": [
    "\n",
    "SINCE WE HAVE DUPLICATE NAMES IN COLUMN, S3 IS ENCOUNTERING AN ERROR :\n",
    "\n",
    "AnalysisException: [COLUMN_ALREADY_EXISTS] The column `comments` already exists. Consider to choose another name or rename the existing column.\n"
   ]
  },
  {
   "cell_type": "code",
   "execution_count": 0,
   "metadata": {
    "application/vnd.databricks.v1+cell": {
     "cellMetadata": {
      "byteLimit": 2048000,
      "rowLimit": 10000
     },
     "inputWidgets": {},
     "nuid": "2e3f2da1-c04c-443c-a141-31b7b28a33f0",
     "showTitle": false,
     "title": ""
    }
   },
   "outputs": [],
   "source": [
    "# Get the list of all columns\n",
    "all_columns = elon_mrbeast_df.columns"
   ]
  },
  {
   "cell_type": "code",
   "execution_count": 0,
   "metadata": {
    "application/vnd.databricks.v1+cell": {
     "cellMetadata": {
      "byteLimit": 2048000,
      "rowLimit": 10000
     },
     "inputWidgets": {},
     "nuid": "b71b3616-3bde-4134-b7d3-e1fd0086aa41",
     "showTitle": false,
     "title": ""
    }
   },
   "outputs": [],
   "source": [
    "# Create a dictionary to keep track of column name counts\n",
    "column_counts = {}"
   ]
  },
  {
   "cell_type": "code",
   "execution_count": 0,
   "metadata": {
    "application/vnd.databricks.v1+cell": {
     "cellMetadata": {
      "byteLimit": 2048000,
      "rowLimit": 10000
     },
     "inputWidgets": {},
     "nuid": "a419a606-3d1d-4aa8-9f35-ea8741636675",
     "showTitle": false,
     "title": ""
    }
   },
   "outputs": [],
   "source": [
    "#loop through each column and add suffix to only duplicate names leaving uniwue names unchanged\n",
    "\n",
    "new_columns=[]\n",
    "\n",
    "for column in all_columns:\n",
    "   if column in column_counts:\n",
    "       column_counts[column] += 1\n",
    "       new_columns.append(f\"{column}_{column_counts[column]}\")\n",
    "   else:\n",
    "       column_counts[column] = 1\n",
    "       new_columns.append(column)\n"
   ]
  },
  {
   "cell_type": "code",
   "execution_count": 0,
   "metadata": {
    "application/vnd.databricks.v1+cell": {
     "cellMetadata": {
      "byteLimit": 2048000,
      "rowLimit": 10000
     },
     "inputWidgets": {},
     "nuid": "f43ff488-a59b-4ef8-a1e1-ac94bd1287d5",
     "showTitle": false,
     "title": ""
    }
   },
   "outputs": [],
   "source": [
    "elon_mrbeast_df=elon_mrbeast_df.toDF(*new_columns)\n"
   ]
  },
  {
   "cell_type": "code",
   "execution_count": 0,
   "metadata": {
    "application/vnd.databricks.v1+cell": {
     "cellMetadata": {
      "byteLimit": 2048000,
      "rowLimit": 10000
     },
     "inputWidgets": {},
     "nuid": "b24bf363-fe56-4547-8863-aa91e5f0ef4e",
     "showTitle": false,
     "title": ""
    }
   },
   "outputs": [
    {
     "output_type": "stream",
     "name": "stdout",
     "output_type": "stream",
     "text": [
      "+---+--------------------+--------------------+---------------+-----+--------+--------+------+----------------+----+--------------------+--------------------+-------+-------+----------+----------+--------+------------------+\n| ID|                link|                text|           user|likes|comments|retweets|quotes|rolling_comments|ID_2|              link_2|              text_2| user_2|likes_2|comments_2|retweets_2|quotes_2|rolling_comments_2|\n+---+--------------------+--------------------+---------------+-----+--------+--------+------+----------------+----+--------------------+--------------------+-------+-------+----------+----------+--------+------------------+\n| 10|https://twitter.c...|Over 1 million jo...|         Hiring| 7817|     980|    1358|   114|         47886.0|  10|https://twitter.c...|If you don’t watc...|MrBeast|  81351|     12234|      4528|     626|           58636.0|\n|108|https://twitter.c...|BREAKING: 𝕏 outp...|   DogeDesigner| 9321|    1326|    1469|   117|         50097.0| 108|https://twitter.c...|Was 40%+ body fat...|MrBeast|  80482|      1489|       938|      81|           45715.0|\n|147|https://twitter.c...|Can't wait for th...|   DogeDesigner| 8867|     516|     918|    53|         98921.0| 147|https://twitter.c...|    How old are you?|MrBeast|  75682|     21621|      3304|     538|          135202.0|\n|177|https://twitter.c...|                null|      Elon Musk|73578|    4154|   11862|   286|         65637.0| 177|https://twitter.c...|With 30 minutes r...|MrBeast|  80100|      2513|      1612|     254|           65717.0|\n|185|https://twitter.c...|And then singing ...|      Elon Musk| 7821|   10359|     961|   171|         51801.0| 185|https://twitter.c...|If someone offere...|MrBeast|  89179|     36388|      4295|    6845|           74356.0|\n|212|https://twitter.c...|Access a range of...|          Tesla| 8939|     618|    1436|    69|         24553.0| 212|https://twitter.c...|I also tried to t...|MrBeast|  73976|       810|       766|      38|           32762.0|\n|219|https://twitter.c...|This year, the @S...|      Elon Musk|90512|    5801|    8554|   664|         28496.0| 219|https://twitter.c...|I’m curious what ...|MrBeast|  98468|      3135|      1825|     471|           25757.0|\n| 34|https://twitter.c...|Question: Can som...|The Rabbit Hole| 7125|     745|    1095|   121|         49020.0|  34|https://twitter.c...|In our new video ...|MrBeast|  88893|      6986|      4044|     242|           37822.0|\n|358|https://twitter.c...|             Exactly|      Elon Musk|82569|    3139|   14521|   275|         53764.0| 358|https://twitter.c...|We played extreme...|MrBeast|  80922|      2232|      1502|     122|           27748.0|\n|386|https://twitter.c...|Interview with @B...|      Elon Musk|90138|    8880|   16020|   769|        113847.0| 386|https://twitter.c...|I went to prison ...|MrBeast|  77217|      1265|       958|     321|           17359.0|\n|437|https://twitter.c...|    𝕏 is the future|      Elon Musk|70456|    5287|   10342|   519|         43254.0| 437|https://twitter.c...|To the 9 people t...|MrBeast|  78359|      1940|      1397|     140|           26016.0|\n| 52|https://twitter.c...|Meta Staff Found ...|      Elon Musk|84511|    5164|   27337|  1099|        113273.0|  52|https://twitter.c...|New video has muc...|MrBeast|  72990|      3366|      1947|     213|           42034.0|\n| 82|https://twitter.c...|          Absolutely|      Elon Musk|80070|    2550|   12532|   159|          3230.0|  82|https://twitter.c...|Here’s a sneak pe...|MrBeast|  84776|      2968|      3313|     366|           20367.0|\n| 86|https://twitter.c...|Every business sh...|   DogeDesigner| 7360|     680|    1205|   614|           680.0|  86|https://twitter.c...|Now that Twitter ...|MrBeast|  92248|      3382|      1397|      91|           15978.0|\n+---+--------------------+--------------------+---------------+-----+--------+--------+------+----------------+----+--------------------+--------------------+-------+-------+----------+----------+--------+------------------+\n\n"
     ]
    }
   ],
   "source": [
    "elon_mrbeast_df.show()"
   ]
  },
  {
   "cell_type": "code",
   "execution_count": 0,
   "metadata": {
    "application/vnd.databricks.v1+cell": {
     "cellMetadata": {
      "byteLimit": 2048000,
      "rowLimit": 10000
     },
     "inputWidgets": {},
     "nuid": "4b4249b9-bbdb-4ac6-88ce-460fcd9edd44",
     "showTitle": false,
     "title": ""
    }
   },
   "outputs": [],
   "source": [
    "import os\n",
    "\n",
    "# Set AWS credentials as environment variables\n",
    "os.environ[\"AWS_ACCESS_KEY_ID\"] = \"MMMMMMMMMMMM\"\n",
    "os.environ[\"AWS_SECRET_ACCESS_KEY\"] = \"XXXXXXX\"\n"
   ]
  },
  {
   "cell_type": "code",
   "execution_count": 0,
   "metadata": {
    "application/vnd.databricks.v1+cell": {
     "cellMetadata": {
      "byteLimit": 2048000,
      "rowLimit": 10000
     },
     "inputWidgets": {},
     "nuid": "da704933-c042-4a4b-b181-bf602ffa76e3",
     "showTitle": false,
     "title": ""
    }
   },
   "outputs": [],
   "source": [
    "# Configure Spark with AWS credentials\n",
    "\n",
    "#Configure Spark to use the AWS credentials you've set as environment variables.\n",
    "\n",
    "spark.sparkContext._jsc.hadoopConfiguration().set(\"fs.s3a.access.key\", os.environ[\"AWS_ACCESS_KEY_ID\"])\n",
    "spark.sparkContext._jsc.hadoopConfiguration().set(\"fs.s3a.secret.key\", os.environ[\"AWS_SECRET_ACCESS_KEY\"])\n",
    "\n"
   ]
  },
  {
   "cell_type": "code",
   "execution_count": 0,
   "metadata": {
    "application/vnd.databricks.v1+cell": {
     "cellMetadata": {
      "byteLimit": 2048000,
      "rowLimit": 10000
     },
     "inputWidgets": {},
     "nuid": "412f1c60-f1e9-4aa2-b076-5b49226a0fa6",
     "showTitle": false,
     "title": ""
    }
   },
   "outputs": [],
   "source": [
    "# Assuming you already have a DataFrame named elon_beast_data that you want to save to S3\n",
    "\n",
    "# Step 2: Write the DataFrame to S3 in CSV format\n",
    "\n",
    "elon_mrbeast_df.write.format(\"csv\").mode(\"overwrite\").option(\"header\", \"true\").save(\"s3://mydatabrickss3bucket/BUCK/\")\n"
   ]
  },
  {
   "cell_type": "markdown",
   "metadata": {
    "application/vnd.databricks.v1+cell": {
     "cellMetadata": {},
     "inputWidgets": {},
     "nuid": "0d874a96-79c5-4501-b2e2-e72dd94ab206",
     "showTitle": false,
     "title": ""
    }
   },
   "source": [
    "\n",
    "REASON WHY WE WROTE OPTION(\"HEADER, \"TRUE)  BECAUSE WE HAVE ALREADY LOADED A CSV FILE IN S3 BUCKET WHICH DID'T HAVE ANY HEADER / COLUMN NAME IN IT.\n",
    "\n",
    "THIS MAY, WE INCLUDED (\"MODE\", \"OVERWRITE) AND \"HEADER\" OPTION IN QUERY."
   ]
  }
 ],
 "metadata": {
  "application/vnd.databricks.v1+notebook": {
   "dashboards": [],
   "language": "python",
   "notebookMetadata": {
    "pythonIndentUnit": 4
   },
   "notebookName": "ETL PROJECT",
   "widgets": {}
  }
 },
 "nbformat": 4,
 "nbformat_minor": 0
}
